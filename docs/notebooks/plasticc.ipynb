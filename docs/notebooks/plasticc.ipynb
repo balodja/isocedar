{
 "cells": [
  {
   "cell_type": "markdown",
   "id": "fcaf21bb",
   "metadata": {},
   "source": [
    "# PLAsTiCC dataset"
   ]
  },
  {
   "cell_type": "markdown",
   "id": "b6d3c979",
   "metadata": {},
   "source": [
    "This notebook gives an example of Active Anomaly Detection with `coniferest` and [PLAsTiCC](https://plasticc.org/) dataset."
   ]
  },
  {
   "cell_type": "code",
   "execution_count": 1,
   "id": "36bf8451",
   "metadata": {},
   "source": [
    "import numpy as np\n",
    "from time import monotonic\n",
    "from datetime import timedelta\n",
    "import matplotlib.pyplot as plt\n",
    "\n",
    "from coniferest.datasets import plasticc_gp"
   ],
   "outputs": []
  },
  {
   "cell_type": "code",
   "execution_count": 2,
   "id": "ad7ca7a6",
   "metadata": {},
   "source": [
    "data, metadata = plasticc_gp()"
   ],
   "outputs": []
  },
  {
   "cell_type": "code",
   "execution_count": 3,
   "id": "56c68487",
   "metadata": {},
   "source": [
    "from coniferest.isoforest import IsolationForest\n",
    "from coniferest.aadforest import AADForest\n",
    "from coniferest.pineforest import PineForest"
   ],
   "outputs": []
  },
  {
   "cell_type": "code",
   "execution_count": 4,
   "id": "4d71919b",
   "metadata": {},
   "source": [
    "models = {\n",
    "    \"Isolation Forest\": IsolationForest,\n",
    "    \"AAD Forest\": AADForest,\n",
    "    \"Pine Forest\": PineForest,\n",
    "}"
   ],
   "outputs": []
  },
  {
   "cell_type": "code",
   "execution_count": 5,
   "id": "a3b7799d",
   "metadata": {},
   "source": [
    "from coniferest.session import oracle"
   ],
   "outputs": []
  },
  {
   "cell_type": "code",
   "execution_count": 6,
   "id": "e09743ee",
   "metadata": {},
   "source": [
    "max_iterations = 100\n",
    "max_trials = 20\n",
    "\n",
    "steps = np.arange(1, max_iterations + 1)\n",
    "\n",
    "anomalies = {}\n",
    "wall_times = {}\n",
    "for name, model_class in models.items():\n",
    "\n",
    "    wall_time = []\n",
    "    anomalies_ = []\n",
    "    for i in range(max_trials):\n",
    "        session = oracle.create_oracle_session(data, metadata,\n",
    "                                               model = model_class(random_seed = i),\n",
    "                                               max_iterations = max_iterations)\n",
    "    \n",
    "        start_time = monotonic()\n",
    "    \n",
    "        session.run()\n",
    "    \n",
    "        wall_time.append(timedelta(seconds = monotonic() - start_time))\n",
    "    \n",
    "        labels = (1 - np.asarray(list(session.known_labels.values()), dtype=int)) // 2\n",
    "        anomalies_.append(np.cumsum(labels) / steps)\n",
    "    \n",
    "    anomalies[name] = np.asarray(anomalies_)\n",
    "    wall_times[name] = np.median(np.asarray(wall_time))"
   ],
   "outputs": []
  },
  {
   "cell_type": "code",
   "execution_count": 7,
   "id": "640c91d4",
   "metadata": {},
   "source": [
    "for name in models.keys():\n",
    "    q5 = np.quantile(anomalies[name], 0.05, axis = 0)\n",
    "    median = np.median(anomalies[name], axis = 0)\n",
    "    q95 = np.quantile(anomalies[name], 0.95, axis = 0)\n",
    "    \n",
    "    plt.plot(steps, median,\n",
    "             alpha=0.75,\n",
    "             label=\"{} ({:.0f} sec.)\".format(name, wall_times[name].total_seconds()))\n",
    "    plt.fill_between(steps, q5, q95, alpha=0.5)\n",
    "\n",
    "plt.legend()\n",
    "plt.xlabel(\"Iteration\")\n",
    "plt.ylabel(\"Fraction of anomalies\")"
   ],
   "outputs": []
  }
 ],
 "metadata": {
  "kernelspec": {
   "display_name": "snad2024",
   "language": "python",
   "name": "snad2024"
  },
  "language_info": {
   "codemirror_mode": {
    "name": "ipython",
    "version": 3
   },
   "file_extension": ".py",
   "mimetype": "text/x-python",
   "name": "python",
   "nbconvert_exporter": "python",
   "pygments_lexer": "ipython3",
   "version": "3.11.9"
  }
 },
 "nbformat": 4,
 "nbformat_minor": 5
}
